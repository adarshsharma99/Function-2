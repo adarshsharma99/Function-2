{
  "nbformat": 4,
  "nbformat_minor": 0,
  "metadata": {
    "colab": {
      "provenance": []
    },
    "kernelspec": {
      "name": "python3",
      "display_name": "Python 3"
    },
    "language_info": {
      "name": "python"
    }
  },
  "cells": [
    {
      "cell_type": "markdown",
      "source": [
        "# Theory Answers"
      ],
      "metadata": {
        "id": "nNoXnjicJSHq"
      }
    },
    {
      "cell_type": "markdown",
      "source": [
        "# 1. What is the difference between a function and a method in Python?\n",
        "\n",
        "- Functions vs Methods in Python\n",
        "\n",
        "In Python, both functions and methods are used to perform specific tasks, but there's a key difference between them:\n",
        "\n",
        "Function:\n",
        "\n",
        "- A function is a self-contained block of code that can be called multiple times from different parts of your program.\n",
        "- Functions are not tied to any specific object or class.\n",
        "- They can take arguments and return values.\n",
        "\n",
        "Method:\n",
        "\n",
        "- A method is a function that's part of a class and is used to perform actions on an object of that class.\n",
        "- Methods are tied to a specific class and are used to interact with the object's attributes (data) and other methods.\n",
        "- Methods can also take arguments and return values.\n",
        "\n",
        "Key differences:\n",
        "\n",
        "1. Association: Functions are standalone, while methods are part of a class.\n",
        "2. Context: Functions don't have access to a specific object's context, while methods do.\n",
        "3. Purpose: Functions perform general-purpose tasks, while methods perform tasks specific to an object or class.\n",
        "\n",
        "Example:\n",
        "# Function\n",
        "def greet(name):\n",
        "\n",
        "   print(f\"Hello, {name}!\")\n",
        "\n",
        "# Method (part of a class)\n",
        "class Person:\n",
        "\n",
        "    def _init_(self, name):\n",
        "        self.name = name\n",
        "\n",
        "    def greet(self):\n",
        "        print(f\"Hello, my name is {self.name}!\")\n",
        "\n",
        "# Usage\n",
        "greet(\"John\")  # Function call\n",
        "\n",
        "person\n",
        "\n",
        "# 2.. Explain the concept of function arguments and parameters in Python.\n",
        "\n",
        "- Function Arguments and Parameters in Python\n",
        "\n",
        "In Python, functions can take inputs, known as arguments, which are values passed to the function when it's called. These arguments are assigned to variables called parameters, which are defined in the function definition.\n",
        "\n",
        "Parameters:\n",
        "\n",
        "- Parameters are the variables defined in the function definition that receive the values passed to the function.\n",
        "- Parameters are also known as formal parameters.\n",
        "\n",
        "Arguments:\n",
        "\n",
        "- Arguments are the values passed to the function when it's called.\n",
        "- Arguments can be positional (passed in the order defined by the function) or keyword-based (passed with the parameter name).\n",
        "\n",
        "Example:\n",
        "def greet(name, age):  # name and age are parameters\n",
        "\n",
        "    print(f\"Hello, {name}! You are {age} years old.\")\n",
        "\n",
        "greet(\"John\", 30)  # \"John\" and 30 are arguments\n",
        "\n",
        "# 3. What are the different ways to define and call a function in Python?\n",
        "- \"in\" Keyword for Lists and Dictionaries\n",
        "\n",
        "The \"in\" keyword in Python works differently for lists and dictionaries:\n",
        "\n",
        "## Lists\n",
        "For lists, the \"in\" keyword checks if a value is present in the list.\n",
        "\n",
        "my_list = [1, 2, 3]\n",
        "\n",
        "print(2 in my_list)  # Output: True\n",
        "\n",
        "print(4 in my_list)  # Output: False\n",
        "## Dictionaries\n",
        "For dictionaries, the \"in\" keyword checks if a key is present in the dictionary.\n",
        "my_dict = {\"name\": \"John\", \"age\": 30}\n",
        "\n",
        "print(\"name\" in my_dict)  # Output: True\n",
        "\n",
        "print(\"city\" in my_dict)  # Output: False\n",
        "## Key Differences\n",
        "1. List: Checks for value presence.\n",
        "2. Dictionary: Checks for key presence.\n",
        "\n",
        "## Use Cases\n",
        "1. List: Use \"in\" to check if an element is present in a list.\n",
        "2. Dictionary: Use \"in\" to check if a key is present in a dictionary.\n",
        "\n",
        "## Example\n",
        "# List example\n",
        "fruits = [\"apple\", \"banana\", \"orange\"]\n",
        "\n",
        "print(\"apple\" in fruits)  # Output: True\n",
        "\n",
        "# Dictionary example\n",
        "person = {\"name\": \"John\", \"age\": 30}\n",
        "\n",
        "print(\"age\" in person)  # Output: True\n",
        "\n",
        "By understanding how the \"in\" keyword works for lists and dictionaries, you can write more efficient and effective code.\n",
        "\n",
        "# 4. What is the purpose of the `return` statement in a Python function?\n",
        "- Purpose of the return Statement in Python\n",
        "\n",
        "The return statement in a Python function is used to:\n",
        "\n",
        "1. Exit the function: When a return statement is encountered, the function execution is terminated, and control is passed back to the caller.\n",
        "2. Return a value: The return statement can specify a value to be returned to the caller, which can then be used in the calling code.\n",
        "\n",
        "Example:\n",
        "def add(a, b):\n",
        "\n",
        "    result = a + b\n",
        "\n",
        "    return result\n",
        "\n",
        "result = add(2, 3)\n",
        "\n",
        "print(result)  # Output: 5\n",
        "\n",
        "In this example, the add function calculates the sum of a and b and returns the result using the return statement. The returned value is then assigned to the result variable in the calling code.\n",
        "\n",
        "Key aspects:\n",
        "\n",
        "1. Optional: The return statement is optional. If omitted, the function will return None by default.\n",
        "2. Multiple returns: A function can have multiple return statements, which can be used to return different values based on conditions.\n",
        "3. Early exit: The return statement can be used to exit a function early, before reaching the end of the function body.\n",
        "\n",
        "Best practices:\n",
        "\n",
        "1. Use return consistently: Be consistent in using return statements throughout your code to make it easier to understand and maintain.\n",
        "2. Document return values: Clearly document the return values of your functions to help others understand how to use them.\n",
        "\n",
        "By using the return statement effectively, you can write functions that are more flexible, reusable, and efficient.\n",
        "\n",
        "# 5.What are iterators in Python and how do they differ from iterables?\n",
        "\n",
        "- Iterators and Iterables in Python\n",
        "\n",
        "In Python, iterators and iterables are two related but distinct concepts.\n",
        "\n",
        "Iterables:\n",
        "\n",
        "- An iterable is an object that can be iterated over, meaning its elements can be accessed one by one.\n",
        "- Examples of iterables include lists, tuples, dictionaries, sets, and strings.\n",
        "- Iterables can be used in loops, such as for loops, to iterate over their elements.\n",
        "\n",
        "Iterators:\n",
        "\n",
        "- An iterator is an object that keeps track of its position in an iterable and returns the next element each time it's called.\n",
        "- An iterator is created using the iter() function or by calling the __iter__() method on an iterable.\n",
        "- Iterators have a __next__() method that returns the next element in the iterable.\n",
        "\n",
        "Key differences:\n",
        "\n",
        "1. Purpose: An iterable is an object that can be iterated over, while an iterator is an object that performs the iteration.\n",
        "2. State: An iterator maintains its state, keeping track of the current position in the iterable, whereas an iterable does not maintain state.\n",
        "3. Usage: An iterable can be used\n",
        "\n",
        "# 6.. Explain the concept of generators in Python and how they are defined.\n",
        "\n",
        "- Generators in Python\n",
        "\n",
        "Generators are a type of iterable in Python that allow you to generate a sequence of values on-the-fly, rather than storing them all in memory at once.\n",
        "\n",
        "Defining Generators:\n",
        "\n",
        "Generators are defined using functions and the yield keyword. When a generator function is called, it returns a generator iterator.\n",
        "\n",
        "Basic Syntax:\n",
        "def my_generator():\n",
        "\n",
        "    yield value1\n",
        "\n",
        "    yield value2\n",
        "\n",
        "    yield value3\n",
        "How Generators Work:\n",
        "\n",
        "1. Generator Function: A generator function is defined using the def keyword, just like a regular function.\n",
        "2. Yield Statement: The yield statement is used to produce a value from the generator.\n",
        "3. Generator Iterator: When the generator function is called, it returns a generator iterator.\n",
        "4. Next() Function: The next() function is used to retrieve the next value from the generator iterator.\n",
        "\n",
        "Example:\n",
        "def my_generator():\n",
        "\n",
        "    yield 1\n",
        "\n",
        "    yield 2\n",
        "\n",
        "    yield 3\n",
        "\n",
        "gen = my_generator()\n",
        "\n",
        "print(next(gen))  # 1\n",
        "\n",
        "print(next(gen))  # 2\n",
        "\n",
        "print(next(gen))  # 3\n",
        "\n",
        "Benefits of Generators:\n",
        "\n",
        "1. Memory Efficiency: Generators can be more memory-efficient than storing all values in a list or other data structure.\n",
        "2. Lazy Evaluation: Generators only produce values when requested, which can be beneficial for expensive computations.\n",
        "3. Flexibility: Generators can be used to implement complex iteration logic.\n",
        "\n",
        "Use Cases:\n",
        "\n",
        "1. Handling Large Datasets: Generators can be used to handle large datasets that don't fit into memory.\n",
        "2. Creating Infinite Sequences: Generators can be used to create infinite sequences, such as a sequence of random numbers.\n",
        "3. Implementing Cooperative Multitasking: Generators can be used to implement cooperative multitasking, where tasks yield control to other tasks.\n",
        "\n",
        "# 7.  What are the advantages of using generators over regular functions?\n",
        "\n",
        "- Advantages of Generators over Regular Functions\n",
        "\n",
        "Generators have several advantages over regular functions:\n",
        "\n",
        "1. Memory Efficiency: Generators use less memory because they only store the current state of the iteration, rather than storing all the values in memory at once.\n",
        "2. Lazy Evaluation: Generators only produce values when requested, which can be beneficial for expensive computations or when working with large datasets.\n",
        "3. Flexibility: Generators can be used to implement complex iteration logic and can be easily composed together.\n",
        "4. Improved Performance: Generators can improve performance by avoiding the need to create and store large datasets in memory.\n",
        "5. Handling Infinite Sequences: Generators can be used to handle infinite sequences, such as a sequence of random numbers or a sequence of prime numbers.\n",
        "6. Cooperative Multitasking: Generators can be used to\n",
        "\n",
        "# 8. What is a lambda function in Python and when is it typically used?\n",
        "\n",
        "- Lambda Functions in Python\n",
        "\n",
        "A lambda function, also known as an anonymous function, is a small, one-line function in Python that can be defined inline within a larger expression. It's a shorthand way to create small, single-purpose functions.\n",
        "\n",
        "Syntax:\n",
        "\n",
        "lambda arguments: expression\n",
        "\n",
        "Example:\n",
        "\n",
        "double = lambda x: x * 2\n",
        "\n",
        "print(double(5))  # Output: 10\n",
        "\n",
        "When to Use Lambda Functions:\n",
        "\n",
        "1. One-time use: Use lambda functions when you need a small, one-time-use function.\n",
        "2. Higher-order functions: Use lambda functions as arguments to higher-order functions, such as map(), filter(), or reduce().\n",
        "3. Simple transformations: Use lambda functions for simple data transformations, such as converting data types or performing basic arithmetic operations.\n",
        "4. Event handling: Use lambda functions as event handlers in GUI programming or other event-driven applications.\n",
        "\n",
        "Benefits:\n",
        "\n",
        "1. Concise code: Lambda functions can make code more concise and readable.\n",
        "2. Flexibility: Lambda functions can be defined inline, making them useful for one-time use cases.\n",
        "\n",
        "Common Use Cases:\n",
        "\n",
        "1. Map: Use lambda functions with map() to apply a transformation to each element\n",
        "\n",
        "# 9.Explain the purpose and usage of the `map()` function in Python.\n",
        "\n",
        "- Purpose and Usage of map() Function in Python\n",
        "\n",
        "The map() function in Python applies a given function to each item of an iterable (such as a list, tuple, or string) and returns a map object, which is an iterator.\n",
        "\n",
        "Syntax:\n",
        "\n",
        "map(function, iterable)\n",
        "\n",
        "Purpose:\n",
        "\n",
        "1. Apply a transformation: Use map() to apply a transformation function to each element of an iterable.\n",
        "2. Create a new iterable: map() returns a new iterable that produces the transformed values.\n",
        "\n",
        "Usage:\n",
        "\n",
        "1. Simple transformations: Use map() to perform simple transformations, such as converting data types or applying arithmetic operations.\n",
        "2. Data processing: Use map() to process data in a pipeline, where each stage applies a transformation to the input data.\n",
        "\n",
        "Example:\n",
        "\n",
        "numbers = [1, 2, 3, 4, 5]\n",
        "\n",
        "double_numbers = list(map(lambda x: x * 2, numbers))\n",
        "\n",
        "print(double_numbers)  # [2, 4, 6, 8, 10]\n",
        "\n",
        "Benefits:\n",
        "\n",
        "1. Concise code: map() can make code more concise and readable.\n",
        "2. Efficient processing: map() can be more efficient than using a loop to process data.\n",
        "\n",
        "Common Use Cases:\n",
        "\n",
        "1. Data type conversion: Use `map\n",
        "\n",
        "# 10.What is the difference between `map()`, `reduce()`, and `filter()` functions in Python?\n",
        "\n",
        "-map(), reduce(), and filter() Functions in Python\n",
        "\n",
        "map(), reduce(), and filter() are three important functions in Python that are used for functional programming. Each function serves a different purpose:\n",
        "\n",
        "map() Function:\n",
        "\n",
        "- Applies a given function to each item of an iterable (such as a list or tuple) and returns a map object.\n",
        "- Used for transforming data.\n",
        "\n",
        "filter() Function:\n",
        "\n",
        "- Applies a given predicate function to each item of an iterable and returns a filter object that includes only the items for which the predicate function returns True.\n",
        "- Used for filtering data.\n",
        "\n",
        "reduce() Function:\n",
        "\n",
        "- Applies a given function of two arguments cumulatively to the items of an iterable, from left to right, so as to reduce the iterable to a single output value.\n",
        "- Used for aggregating data.\n",
        "\n",
        "Key differences:\n",
        "\n",
        "1. Purpose:\n",
        "    - map(): Transform data.\n",
        "    - filter(): Filter data.\n",
        "    - reduce(): Aggregate data.\n",
        "2. Output:\n",
        "    - map(): Returns a map object (an iterator).\n",
        "    - filter(): Returns a filter object (an iterator).\n",
        "    - reduce(): Returns a single value.\n",
        "\n",
        "Examples:\n",
        "\n",
        "- map(): Double each number in a list.\n",
        "\n",
        "numbers = [1, 2, 3, 4, 5]\n",
        "\n",
        "double_numbers = list(map(lambda x: x * 2, numbers))\n",
        "\n",
        "- filter(): Get even numbers from a list.\n",
        "\n",
        "numbers = [1, 2, 3, 4, 5]\n",
        "\n",
        "even_numbers = list(filter(lambda x: x % 2 == 0, numbers))\n",
        "\n",
        "- reduce(): Calculate the sum of a list of numbers.\n",
        "\n",
        "import functools\n",
        "\n",
        "numbers = [1, 2, 3, 4, 5]\n",
        "\n",
        "sum_numbers = functools.reduce(lambda x, y: x + y, numbers)\n",
        "By understanding the differences between map(), reduce(), and filter(), you can write more efficient and effective Python code that takes advantage of functional programming principles.\n",
        "\n",
        "# 11. Using pen & Paper write the internal mechanism for sum operation using  reduce function on this given\n",
        "list:[47,11,42,13];\n",
        "\n",
        "\n",
        "- ## Step-by-Step Calculation\n",
        "1. Initialize the accumulator with the first element of the list: acc = 47\n",
        "2. Apply the reduction function (addition) to the accumulator and the second element: acc = 47 + 11 = 58\n",
        "3. Apply the reduction function to the accumulator and the third element: acc = 58 + 42 = 100\n",
        "4. Apply the reduction function to the accumulator and the fourth element: acc = 100 + 13 = 113\n",
        "\n",
        "## Final Result\n",
        "The final result of the reduce function is 113, which is the sum of all elements in the list.\n",
        "\n",
        "Here's a simple representation of the calculation process:\n",
        "\n",
        "acc = 47 + 11 = 58\n",
        "\n",
        "acc = 58 + 42 = 100\n",
        "\n",
        "acc = 100 + 13 = 113\n",
        "\n",
        "You can also represent this process in a more visual way using a diagram or a table:\n",
        "Operation\tAccumulator\tCurrent Value\tResult\n",
        "\t47\t\t47\n",
        "- \t47\t11\t58\n",
        "- \t58\t42\t100\n",
        "- \t100\t13\t113\n",
        "This step-by-step process illustrates how the reduce function works internally to calculate the sum of the elements in the list.\n",
        "\n"
      ],
      "metadata": {
        "id": "SmUnfD0KJXx4"
      }
    },
    {
      "cell_type": "code",
      "source": [],
      "metadata": {
        "id": "uQMQPCE2SMB5"
      },
      "execution_count": null,
      "outputs": []
    },
    {
      "cell_type": "markdown",
      "source": [
        "# Practical Answers\n"
      ],
      "metadata": {
        "id": "TFLCfohDSQwk"
      }
    },
    {
      "cell_type": "code",
      "source": [
        "'''\n",
        "1.Write a Python function that takes a list of numbers as input and returns the sum of all even numbers in\n",
        "the list.\n",
        "'''\n",
        "\n",
        "numbers = [1, 2, 3, 4, 5, 6]\n",
        "result = (numbers)\n",
        "print(result)  # Output: 12"
      ],
      "metadata": {
        "colab": {
          "base_uri": "https://localhost:8080/"
        },
        "id": "dVEexSV0Xmxh",
        "outputId": "e69f3f75-befb-4206-f2f5-8e53c3689126"
      },
      "execution_count": 36,
      "outputs": [
        {
          "output_type": "stream",
          "name": "stdout",
          "text": [
            "[1, 2, 3, 4, 5, 6]\n"
          ]
        }
      ]
    },
    {
      "cell_type": "code",
      "source": [
        "'''\n",
        "2.Create a Python function that accepts a string and returns the reverse of that string.\n",
        "'''\n",
        "original_string = \"Hello, World!\"\n",
        "reversed_string =(original_string)\n",
        "print(reversed_string)  # Output: \"!dlroW ,olleH\""
      ],
      "metadata": {
        "colab": {
          "base_uri": "https://localhost:8080/"
        },
        "id": "W8bIZm2DX-2U",
        "outputId": "cdb391a8-688a-4881-8281-619165c81c24"
      },
      "execution_count": 38,
      "outputs": [
        {
          "output_type": "stream",
          "name": "stdout",
          "text": [
            "Hello, World!\n"
          ]
        }
      ]
    },
    {
      "cell_type": "code",
      "source": [
        "'''\n",
        "3.  Implement a Python function that takes a list of integers and returns a new list containing the squares of\n",
        "each number.\n",
        "'''\n",
        "numbers = [1, 2, 3, 4, 5]\n",
        "squared_numbers =(numbers)\n",
        "print(squared_numbers)  # Output: [1, 4, 9, 16, 25]"
      ],
      "metadata": {
        "colab": {
          "base_uri": "https://localhost:8080/"
        },
        "id": "wnk-z1ppYRqu",
        "outputId": "ea7519a8-c43b-4f17-fee5-65a026a5abff"
      },
      "execution_count": 40,
      "outputs": [
        {
          "output_type": "stream",
          "name": "stdout",
          "text": [
            "[1, 2, 3, 4, 5]\n"
          ]
        }
      ]
    },
    {
      "cell_type": "code",
      "source": [
        "'''\n",
        "4. Write a Python function that checks if a given number is prime or not from 1 to 200.\n",
        "'''\n",
        "def is_prime(n):\n",
        "    if n < 2:\n",
        "        return False\n",
        "    for i in range(2, int(n**0.5) + 1):\n",
        "        if n % i == 0:\n",
        "            return False\n",
        "    return True\n",
        "\n",
        "    for num in range(1, 201):\n",
        "        print(num)"
      ],
      "metadata": {
        "id": "OPiihz3lYgye"
      },
      "execution_count": 74,
      "outputs": []
    },
    {
      "cell_type": "code",
      "source": [
        "'''\n",
        "5. Create an iterator class in Python that generates the Fibonacci sequence up to a specified number of\n",
        "terms.\n",
        "'''\n",
        "\n",
        "fib_iterator = (10)\n",
        "\n",
        " print(num)"
      ],
      "metadata": {
        "colab": {
          "base_uri": "https://localhost:8080/",
          "height": 106
        },
        "id": "UE89aPpcZDNC",
        "outputId": "bd23a58a-875e-4579-e013-dce1d730587f"
      },
      "execution_count": 58,
      "outputs": [
        {
          "output_type": "error",
          "ename": "IndentationError",
          "evalue": "unexpected indent (ipython-input-58-4235988467.py, line 8)",
          "traceback": [
            "\u001b[0;36m  File \u001b[0;32m\"/tmp/ipython-input-58-4235988467.py\"\u001b[0;36m, line \u001b[0;32m8\u001b[0m\n\u001b[0;31m    print(num)\u001b[0m\n\u001b[0m    ^\u001b[0m\n\u001b[0;31mIndentationError\u001b[0m\u001b[0;31m:\u001b[0m unexpected indent\n"
          ]
        }
      ]
    },
    {
      "cell_type": "code",
      "source": [],
      "metadata": {
        "id": "ciS7h81Qbol6"
      },
      "execution_count": null,
      "outputs": []
    },
    {
      "cell_type": "code",
      "source": [
        "'''\n",
        "6.  Write a generator function in Python that yields the powers of 2 up to a given exponent.\n",
        "'''\n",
        " def powers_of_two(max_exponent):\n",
        "    for i in range(int(max_exponent) + 1):\n",
        "        yield 2 ** i\n",
        ""
      ],
      "metadata": {
        "colab": {
          "base_uri": "https://localhost:8080/",
          "height": 106
        },
        "id": "5J_92nw1ZZEy",
        "outputId": "db97226f-bb06-46ce-a3a4-f6c266d49e99"
      },
      "execution_count": 70,
      "outputs": [
        {
          "output_type": "error",
          "ename": "IndentationError",
          "evalue": "unexpected indent (ipython-input-70-1079255781.py, line 4)",
          "traceback": [
            "\u001b[0;36m  File \u001b[0;32m\"/tmp/ipython-input-70-1079255781.py\"\u001b[0;36m, line \u001b[0;32m4\u001b[0m\n\u001b[0;31m    def powers_of_two(max_exponent):\u001b[0m\n\u001b[0m    ^\u001b[0m\n\u001b[0;31mIndentationError\u001b[0m\u001b[0;31m:\u001b[0m unexpected indent\n"
          ]
        }
      ]
    },
    {
      "cell_type": "code",
      "source": [
        "'''\n",
        "7.  Implement a generator function that reads a file line by line and yields each line as a string.\n",
        "'''\n",
        "def read_file_line_by_line(file_path):\n",
        "    with open(file_path, 'r') as file:\n",
        "        for line in file:\n",
        "            yield line.strip()\n",
        "\n",
        "\n",
        "\n",
        "\n",
        "\n",
        "\n",
        "\n",
        "\n"
      ],
      "metadata": {
        "id": "yHftAZThbvzi"
      },
      "execution_count": 65,
      "outputs": []
    },
    {
      "cell_type": "code",
      "source": [
        "'''\n",
        "8. Use a lambda function in Python to sort a list of tuples based on the second element of each tuple.\n",
        "'''\n",
        "data = [(1, 3), (4, 1), (2, 2)]\n",
        "sorted_data = sorted(data, key=lambda x: x[1])\n",
        "print(sorted_data)"
      ],
      "metadata": {
        "colab": {
          "base_uri": "https://localhost:8080/"
        },
        "id": "S1icZol3cIg7",
        "outputId": "379d4a72-e6c2-4f25-b06c-0ac6ad86ae6d"
      },
      "execution_count": 61,
      "outputs": [
        {
          "output_type": "stream",
          "name": "stdout",
          "text": [
            "[(4, 1), (2, 2), (1, 3)]\n"
          ]
        }
      ]
    },
    {
      "cell_type": "code",
      "source": [
        "'''\n",
        "9. Write a Python program that uses `map()` to convert a list of temperatures from Celsius to Fahrenheit.\n",
        "'''\n",
        "celsius = [0, 20, 37, 100]\n",
        "fahrenheit = list(map(lambda c: (c * 9/5) + 32, celsius))\n",
        "print(fahrenheit)"
      ],
      "metadata": {
        "colab": {
          "base_uri": "https://localhost:8080/"
        },
        "id": "AUB23vfOewSW",
        "outputId": "4f006cf1-2788-4f13-b92d-1fe9fe64637f"
      },
      "execution_count": 75,
      "outputs": [
        {
          "output_type": "stream",
          "name": "stdout",
          "text": [
            "[32.0, 68.0, 98.6, 212.0]\n"
          ]
        }
      ]
    },
    {
      "cell_type": "code",
      "source": [
        "'''\n",
        "10.Create a Python program that uses `filter()` to remove all the vowels from a given string.\n",
        "'''\n",
        "def remove_vowels(s):\n",
        "    return ''.join(filter(lambda c: c.lower() not in 'aeiou', s))\n",
        "\n",
        ""
      ],
      "metadata": {
        "id": "byFIw2BZfEjB"
      },
      "execution_count": 80,
      "outputs": []
    },
    {
      "cell_type": "code",
      "source": [
        "'''\n",
        "11.Imagine an accounting routine used in a book shop. It works on a list with sublists, which look like this:\n",
        "\n",
        "\n",
        "\n",
        "\n",
        "\n",
        "\n",
        "\n",
        "Write a Python program, which returns a list with 2-tuples. Each tuple consists of the order number and the\n",
        "product of the price per item and the quantity. The product should be increased by 10,- € if the value of the\n",
        "order is smaller than 100,00 €.\n",
        "\n",
        "Write a Python program using lambda and map.\n",
        "'''\n",
        "orders = [\n",
        "    [\"34587\", \"Learning Python, Mark Lutz\", 4, 40.95],\n",
        "    [\"98762\", \"Programming Python, Mark Lutz\", 5, 56.80],\n",
        "    [\"77226\", \"Head First Python, Paul Barry\", 3, 32.95],\n",
        "    [\"88112\", \"Einführung in Python3, Bernd Klein\", 3, 24.99]\n",
        "]\n",
        "\n",
        "result = list(map(lambda x: (x[0], x[2] * x[3] if x[2] * x[3] >= 100 else x[2] * x[3] + 10), orders))\n",
        "print(result)"
      ],
      "metadata": {
        "colab": {
          "base_uri": "https://localhost:8080/"
        },
        "id": "zR8dO2vUfs7v",
        "outputId": "a0e5a6e2-d3a7-4f1d-f808-b01a4f3aa30c"
      },
      "execution_count": 81,
      "outputs": [
        {
          "output_type": "stream",
          "name": "stdout",
          "text": [
            "[('34587', 163.8), ('98762', 284.0), ('77226', 108.85000000000001), ('88112', 84.97)]\n"
          ]
        }
      ]
    }
  ]
}